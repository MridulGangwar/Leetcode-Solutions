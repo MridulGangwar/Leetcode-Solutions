{
 "cells": [
  {
   "cell_type": "code",
   "execution_count": 1,
   "metadata": {},
   "outputs": [
    {
     "data": {
      "text/plain": [
       "'\\nA famous recently-solved problem in AI, Go is a board game played by two players on a square board. Both players can only place stones (either white or black) on open spaces of the board.  Stones that are adjacent to each other form a group.\\n\\nFor example, consider the following 3x3 board:\\n\\nw w -\\nb - -\\n- b b\\n\\nThere are 3 groups of stones on this board, one white and two black.  The most important property of a group of stones is the number of empty spaces on the outside of it.  These empty spaces are known as the group’s liberties.\\n\\nIn the example above:\\nThe group at position 2,2 (the bottom right corner) has 3 liberties.\\nThe group at position 1,0 (the left edge) has 2 liberties.\\nThe group at position 0,1 (the top) has 2 liberties.\\n\\nGiven as input a Go board and the location of one stone on the board, can you count the number of liberties of this group?\\n'"
      ]
     },
     "execution_count": 1,
     "metadata": {},
     "output_type": "execute_result"
    }
   ],
   "source": [
    "'''\n",
    "A famous recently-solved problem in AI, Go is a board game played by two players on a square board. Both players can only place stones (either white or black) on open spaces of the board.  Stones that are adjacent to each other form a group.\n",
    "\n",
    "For example, consider the following 3x3 board:\n",
    "\n",
    "w w -\n",
    "b - -\n",
    "- b b\n",
    "\n",
    "There are 3 groups of stones on this board, one white and two black.  The most important property of a group of stones is the number of empty spaces on the outside of it.  These empty spaces are known as the group’s liberties.\n",
    "\n",
    "In the example above:\n",
    "The group at position 2,2 (the bottom right corner) has 3 liberties.\n",
    "The group at position 1,0 (the left edge) has 2 liberties.\n",
    "The group at position 0,1 (the top) has 2 liberties.\n",
    "\n",
    "Given as input a Go board and the location of one stone on the board, can you count the number of liberties of this group?\n",
    "'''"
   ]
  },
  {
   "cell_type": "code",
   "execution_count": 31,
   "metadata": {},
   "outputs": [],
   "source": [
    "import collections\n",
    "class Solution:\n",
    "    def go_liberties(self, grid, stone_loc) -> int:\n",
    "        \n",
    "        rows, cols = len(grid), len(grid[0])\n",
    "        \n",
    "        col = grid[stone_loc[0]][stone_loc[1]]\n",
    "        other_col = \"w\" if col==\"b\" else \"b\"\n",
    "        \n",
    "        visit = set()\n",
    "        visit.add((stone_loc[0],stone_loc[1]))\n",
    "        q = collections.deque([stone_loc])\n",
    "        \n",
    "        direction = [(-1,0),(0,1),(1,0),(0,-1)]\n",
    "        result = 0\n",
    "        \n",
    "        while q:\n",
    "            x , y = q.popleft()\n",
    "            for dx,dy in direction:\n",
    "                cx = x+dx\n",
    "                cy = y+dy\n",
    "                \n",
    "                if cx<0 or cx>=rows or cy<0 or cy>=cols or (cx,cy) in visit or grid[cx][cy]==other_col:\n",
    "                    continue\n",
    "                    \n",
    "                if grid[cx][cy]==col:\n",
    "                    q.append((cx,cy))\n",
    "                elif grid[cx][cy]=='-':\n",
    "                    result+=1\n",
    "                \n",
    "                visit.add((cx,cy))\n",
    "                \n",
    "        return result"
   ]
  },
  {
   "cell_type": "code",
   "execution_count": 32,
   "metadata": {},
   "outputs": [
    {
     "name": "stdout",
     "output_type": "stream",
     "text": [
      "3\n",
      "2\n",
      "2\n"
     ]
    }
   ],
   "source": [
    "sol = Solution()\n",
    "grid = [['w','w','-'], ['b','-','-'], ['-','b','b']]\n",
    "\n",
    "stone_loc = [2,2]\n",
    "print(sol.go_liberties(grid, stone_loc))\n",
    "\n",
    "stone_loc = [1,0]\n",
    "print(sol.go_liberties(grid, stone_loc))\n",
    "\n",
    "stone_loc = [0,1]\n",
    "print(sol.go_liberties(grid, stone_loc))"
   ]
  },
  {
   "cell_type": "code",
   "execution_count": 34,
   "metadata": {},
   "outputs": [
    {
     "name": "stdout",
     "output_type": "stream",
     "text": [
      "2\n",
      "2\n",
      "2\n"
     ]
    }
   ],
   "source": [
    "grid = [['w','w','-'], ['b','-','-'], ['b','b','b']]\n",
    "'''\n",
    "w w -\n",
    "b - -\n",
    "b b b\n",
    "'''\n",
    "stone_loc = [2,2]\n",
    "print(sol.go_liberties(grid, stone_loc))\n",
    "\n",
    "stone_loc = [1,0]\n",
    "print(sol.go_liberties(grid, stone_loc))\n",
    "\n",
    "stone_loc = [0,1]\n",
    "print(sol.go_liberties(grid, stone_loc))"
   ]
  },
  {
   "cell_type": "code",
   "execution_count": null,
   "metadata": {},
   "outputs": [],
   "source": []
  }
 ],
 "metadata": {
  "kernelspec": {
   "display_name": "Python 3",
   "language": "python",
   "name": "python3"
  },
  "language_info": {
   "codemirror_mode": {
    "name": "ipython",
    "version": 3
   },
   "file_extension": ".py",
   "mimetype": "text/x-python",
   "name": "python",
   "nbconvert_exporter": "python",
   "pygments_lexer": "ipython3",
   "version": "3.7.9"
  }
 },
 "nbformat": 4,
 "nbformat_minor": 4
}
